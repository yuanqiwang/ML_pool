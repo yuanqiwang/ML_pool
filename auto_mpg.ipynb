{
 "cells": [
  {
   "cell_type": "code",
   "execution_count": 1,
   "metadata": {},
   "outputs": [],
   "source": [
    "import pandas as pd\n",
    "import numpy as np\n",
    "from sklearn.model_selection import train_test_split, cross_val_score, KFold\n",
    "from sklearn.linear_model import LinearRegression, Lasso, Ridge\n",
    "from sklearn.ensemble import RandomForestRegressor\n"
   ]
  },
  {
   "cell_type": "code",
   "execution_count": 2,
   "metadata": {
    "collapsed": true
   },
   "outputs": [],
   "source": [
    "name = [\"mpg\", \"cylinders\",\"displacement\",\"horsepower\",\n",
    "        \"weight\",\"acceleration\",\"model_year\", \"origin\",\"car_name\"]\n",
    "\n",
    "features = [\"cylinders\",\"displacement\",\"horsepower\",\n",
    "        \"weight\",\"acceleration\",\"model_year\", \"origin\"]\n",
    "\n",
    "data = pd.read_csv(\"auto-mpg.data\", delimiter= \"\\s+\", names = name)"
   ]
  },
  {
   "cell_type": "code",
   "execution_count": 3,
   "metadata": {},
   "outputs": [
    {
     "data": {
      "text/plain": [
       "Index([u'mpg', u'cylinders', u'displacement', u'weight', u'acceleration',\n",
       "       u'model_year', u'origin', u'car_name', u'horsepower'],\n",
       "      dtype='object')"
      ]
     },
     "execution_count": 3,
     "metadata": {},
     "output_type": "execute_result"
    }
   ],
   "source": [
    "# Change the object variable to numeric:\n",
    "\n",
    "data[\"horsepower_int\"] = data[\"horsepower\"].apply(pd.to_numeric, errors = 'coerce')\n",
    "### coerce will change non-numeric to NaNren\n",
    "data.drop(\"horsepower\", axis = 1, inplace=True)\n",
    "data.rename(columns={\"horsepower_int\": \"horsepower\"}, inplace = True)\n",
    "data.columns"
   ]
  },
  {
   "cell_type": "code",
   "execution_count": 4,
   "metadata": {},
   "outputs": [],
   "source": [
    "# Deal with NaN\n",
    "\n",
    "## method 1: drop\n",
    "data_dropna = data.dropna()\n",
    "\n",
    "## method 2: with mean\n",
    "horsepower_mean = data.horsepower.mean()\n",
    "data_fillmean = data.copy()\n",
    "data_fillmean.horsepower = data[\"horsepower\"].fillna(horsepower_mean)\n"
   ]
  },
  {
   "cell_type": "code",
   "execution_count": 5,
   "metadata": {},
   "outputs": [],
   "source": [
    "##[[Q]]: failed attempt to name dataset using a loop\n",
    "\n",
    "#datasets = [data_dropna, data_fillmean]\n",
    "#names = [[\"X1\", \"Y1\"], [\"X2\", \"Y2\"]]\n",
    "#for name, dataset in zip(names,datasets):\n",
    "#    name[0] = dataset[features]\n",
    "#    name[1] = dataset[\"mpg\"]\n"
   ]
  },
  {
   "cell_type": "code",
   "execution_count": 6,
   "metadata": {
    "collapsed": true
   },
   "outputs": [],
   "source": [
    "X = data_dropna[features]\n",
    "y = data_dropna[\"mpg\"]\n",
    "X1 = data_fillmean[features]\n",
    "y1 = data_fillmean[\"mpg\"]"
   ]
  },
  {
   "cell_type": "code",
   "execution_count": 7,
   "metadata": {},
   "outputs": [],
   "source": [
    "X_train, X_test, y_train, y_test = train_test_split(X, y, \n",
    "                                test_size=0.20, random_state=42)\n",
    "X1_train, X1_test, y1_train, y1_test = train_test_split(X1, y1, \n",
    "                                test_size=0.20, random_state=42)"
   ]
  },
  {
   "cell_type": "code",
   "execution_count": 8,
   "metadata": {},
   "outputs": [],
   "source": [
    "# different models\n",
    "random_forest = RandomForestRegressor(random_state=0)\n",
    "linear_reg = LinearRegression()\n",
    "lasso = Lasso(random_state=0)\n",
    "ridge = Ridge(random_state=0)"
   ]
  },
  {
   "cell_type": "code",
   "execution_count": 73,
   "metadata": {},
   "outputs": [],
   "source": [
    "models = [random_forest, linear_reg, lasso, ridge]\n",
    "k_fold = KFold(n_splits=5, shuffle = True, random_state=0)\n",
    "\n",
    "def evaluate(X, y):\n",
    "    scores = {}\n",
    "    for model in models:\n",
    "        score = cross_val_score(model, X, y, cv = k_fold)\n",
    "        scores[model.__class__.__name__] =  [score.mean()]\n",
    "        scores[model.__class__.__name__].append(score.std())\n",
    "        \n",
    "    return scores"
   ]
  },
  {
   "cell_type": "code",
   "execution_count": 74,
   "metadata": {},
   "outputs": [
    {
     "name": "stdout",
     "output_type": "stream",
     "text": [
      "RandomForestRegressor R2: 0.87 (+/- 0.02)\n",
      "Ridge R2: 0.80 (+/- 0.02)\n",
      "LinearRegression R2: 0.80 (+/- 0.02)\n",
      "Lasso R2: 0.80 (+/- 0.02)\n"
     ]
    }
   ],
   "source": [
    "# run and show result：\n",
    "import operator\n",
    "result = evaluate(X, y)\n",
    "#[[Q]]: should I use training X and y here?\n",
    "\n",
    "sorted_result = sorted(result.items(), key=operator.itemgetter(1), reverse = True)\n",
    "for each in sorted_result:\n",
    "    print each[0],\"R2: %0.2f (+/- %0.2f)\" %(each[1][0], each[1][1]/2)"
   ]
  },
  {
   "cell_type": "code",
   "execution_count": 75,
   "metadata": {},
   "outputs": [
    {
     "name": "stdout",
     "output_type": "stream",
     "text": [
      "RandomForestRegressor R2: 0.87 (+/- 0.03)\n",
      "Ridge R2: 0.81 (+/- 0.02)\n",
      "LinearRegression R2: 0.81 (+/- 0.02)\n",
      "Lasso R2: 0.80 (+/- 0.03)\n"
     ]
    }
   ],
   "source": [
    "result1 = evaluate(X1, y1)\n",
    "sorted_result1 = sorted(result1.items(), key=operator.itemgetter(1), reverse = True)\n",
    "for each in sorted_result1:\n",
    "    print each[0],\"R2: %0.2f (+/- %0.2f)\" %(each[1][0], each[1][1])"
   ]
  },
  {
   "cell_type": "markdown",
   "metadata": {},
   "source": [
    "Random Forest Regressor has the highest R2 score among the models we have tested. Randome Forest is an ensemble learning method, based on decision tree. It work by constructing multiple decision trees, which are trained on a random sample of the training set, and averaging the results from all the individual regression tree to get to the prediction. \n"
   ]
  }
 ],
 "metadata": {
  "kernelspec": {
   "display_name": "Python 2.7",
   "language": "python",
   "name": "py27"
  },
  "language_info": {
   "codemirror_mode": {
    "name": "ipython",
    "version": 2
   },
   "file_extension": ".py",
   "mimetype": "text/x-python",
   "name": "python",
   "nbconvert_exporter": "python",
   "pygments_lexer": "ipython2",
   "version": "2.7.13"
  }
 },
 "nbformat": 4,
 "nbformat_minor": 2
}
